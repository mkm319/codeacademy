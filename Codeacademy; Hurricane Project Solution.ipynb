{
 "cells": [
  {
   "cell_type": "code",
   "execution_count": 31,
   "id": "e0a0adf6",
   "metadata": {},
   "outputs": [],
   "source": [
    "# names of hurricanes\n",
    "names = ['Cuba I', 'San Felipe II Okeechobee', 'Bahamas', 'Cuba II', 'CubaBrownsville', 'Tampico', 'Labor Day', 'New England', 'Carol', 'Janet', 'Carla', 'Hattie', 'Beulah', 'Camille', 'Edith', 'Anita', 'David', 'Allen', 'Gilbert', 'Hugo', 'Andrew', 'Mitch', 'Isabel', 'Ivan', 'Emily', 'Katrina', 'Rita', 'Wilma', 'Dean', 'Felix', 'Matthew', 'Irma', 'Maria', 'Michael']\n",
    "\n",
    "# months of hurricanes\n",
    "months = ['October', 'September', 'September', 'November', 'August', 'September', 'September', 'September', 'September', 'September', 'September', 'October', 'September', 'August', 'September', 'September', 'August', 'August', 'September', 'September', 'August', 'October', 'September', 'September', 'July', 'August', 'September', 'October', 'August', 'September', 'October', 'September', 'September', 'October']\n",
    "\n",
    "# years of hurricanes\n",
    "years = [1924, 1928, 1932, 1932, 1933, 1933, 1935, 1938, 1953, 1955, 1961, 1961, 1967, 1969, 1971, 1977, 1979, 1980, 1988, 1989, 1992, 1998, 2003, 2004, 2005, 2005, 2005, 2005, 2007, 2007, 2016, 2017, 2017, 2018]\n",
    "\n",
    "# maximum sustained winds (mph) of hurricanes\n",
    "max_sustained_winds = [165, 160, 160, 175, 160, 160, 185, 160, 160, 175, 175, 160, 160, 175, 160, 175, 175, 190, 185, 160, 175, 180, 165, 165, 160, 175, 180, 185, 175, 175, 165, 180, 175, 160]\n",
    "\n",
    "# areas affected by each hurricane\n",
    "areas_affected = [['Central America', 'Mexico', 'Cuba', 'Florida', 'The Bahamas'], ['Lesser Antilles', 'The Bahamas', 'United States East Coast', 'Atlantic Canada'], ['The Bahamas', 'Northeastern United States'], ['Lesser Antilles', 'Jamaica', 'Cayman Islands', 'Cuba', 'The Bahamas', 'Bermuda'], ['The Bahamas', 'Cuba', 'Florida', 'Texas', 'Tamaulipas'], ['Jamaica', 'Yucatn Peninsula'], ['The Bahamas', 'Florida', 'Georgia', 'The Carolinas', 'Virginia'], ['Southeastern United States', 'Northeastern United States', 'Southwestern Quebec'], ['Bermuda', 'New England', 'Atlantic Canada'], ['Lesser Antilles', 'Central America'], ['Texas', 'Louisiana', 'Midwestern United States'], ['Central America'], ['The Caribbean', 'Mexico', 'Texas'], ['Cuba', 'United States Gulf Coast'], ['The Caribbean', 'Central America', 'Mexico', 'United States Gulf Coast'], ['Mexico'], ['The Caribbean', 'United States East coast'], ['The Caribbean', 'Yucatn Peninsula', 'Mexico', 'South Texas'], ['Jamaica', 'Venezuela', 'Central America', 'Hispaniola', 'Mexico'], ['The Caribbean', 'United States East Coast'], ['The Bahamas', 'Florida', 'United States Gulf Coast'], ['Central America', 'Yucatn Peninsula', 'South Florida'], ['Greater Antilles', 'Bahamas', 'Eastern United States', 'Ontario'], ['The Caribbean', 'Venezuela', 'United States Gulf Coast'], ['Windward Islands', 'Jamaica', 'Mexico', 'Texas'], ['Bahamas', 'United States Gulf Coast'], ['Cuba', 'United States Gulf Coast'], ['Greater Antilles', 'Central America', 'Florida'], ['The Caribbean', 'Central America'], ['Nicaragua', 'Honduras'], ['Antilles', 'Venezuela', 'Colombia', 'United States East Coast', 'Atlantic Canada'], ['Cape Verde', 'The Caribbean', 'British Virgin Islands', 'U.S. Virgin Islands', 'Cuba', 'Florida'], ['Lesser Antilles', 'Virgin Islands', 'Puerto Rico', 'Dominican Republic', 'Turks and Caicos Islands'], ['Central America', 'United States Gulf Coast (especially Florida Panhandle)']]\n",
    "\n",
    "# damages (USD($)) of hurricanes, n = 34\n",
    "damages = ['Damages not recorded', '100M', 'Damages not recorded', '40M', '27.9M', '5M', 'Damages not recorded', '306M', '2M', '65.8M', '326M', '60.3M', '208M', '1.42B', '25.4M', 'Damages not recorded', '1.54B', '1.24B', '7.1B', '10B', '26.5B', '6.2B', '5.37B', '23.3B', '1.01B', '125B', '12B', '29.4B', '1.76B', '720M', '15.1B', '64.8B', '91.6B', '25.1B']\n",
    "\n",
    "# deaths for each hurricane\n",
    "deaths = [90,4000,16,3103,179,184,408,682,5,1023,43,319,688,259,37,11,2068,269,318,107,65,19325,51,124,17,1836,125,87,45,133,603,138,3057,74]\n"
   ]
  },
  {
   "cell_type": "code",
   "execution_count": 42,
   "id": "9acbe4b5",
   "metadata": {},
   "outputs": [
    {
     "name": "stdout",
     "output_type": "stream",
     "text": [
      "['Damages not recorded', 100000000.0, 'Damages not recorded', 40000000.0, 27900000.0, 5000000.0, 'Damages not recorded', 306000000.0, 2000000.0, 65800000.0, 326000000.0, 60300000.0, 208000000.0, 1420000000.0, 25400000.0, 'Damages not recorded', 1540000000.0, 1240000000.0, 7100000000.0, 10000000000.0, 26500000000.0, 6200000000.0, 5370000000.0, 23300000000.0, 1010000000.0, 125000000000.0, 12000000000.0, 29400000000.0, 1760000000.0, 720000000.0, 15100000000.0, 64800000000.0, 91600000000.0, 25100000000.0]\n"
     ]
    }
   ],
   "source": [
    "# 1\n",
    "# Update Recorded Damages\n",
    "\n",
    "\n",
    "#I have to convert the recorded damages to floats first\n",
    "\n",
    "# test function by updating damages\n",
    "\n",
    "\n",
    "\n",
    "def convert_damages_data(damages):\n",
    "    conversion = {\"M\": 1000000,\n",
    "              \"B\": 1000000000}\n",
    "    updated_damages = []\n",
    "    for damage in damages:\n",
    "        if damage == \"Damages not recorded\":\n",
    "            updated_damages.append(damage)\n",
    "        if damage[-1] == 'M':\n",
    "            updated_damages.append(float(damage.replace('M', ''))*conversion[\"M\"])\n",
    "        if damage[-1] == 'B':\n",
    "            updated_damages.append(float(damage.replace('B', ''))*conversion[\"B\"])\n",
    "    return updated_damages\n",
    "\n",
    "updated_damages = convert_damages_data(damages)\n",
    "print(updated_damages)\n",
    "\n",
    "\n",
    "\n",
    "\n"
   ]
  },
  {
   "cell_type": "code",
   "execution_count": 60,
   "id": "100f18cf",
   "metadata": {},
   "outputs": [
    {
     "name": "stdout",
     "output_type": "stream",
     "text": [
      "{'Name': 'Cuba I', 'Month': 'October', 'Year': 1924, 'Max sustained wind': 165, 'Area Affected': ['Central America', 'Mexico', 'Cuba', 'Florida', 'The Bahamas'], 'Deaths': 90}\n"
     ]
    }
   ],
   "source": [
    "# 2 \n",
    "# Create a Table\n",
    "# Create a dictionary for hurricanes, \n",
    "# with the key being the name of the hurricane and values \n",
    "# are the key pieces of data\n",
    "def create_dictionary(names, months, years, \n",
    "                      max_sustained_winds, \n",
    "                      areas_affected, deaths):\n",
    "  hurricanes = {}\n",
    "  for i in range(len(names)):\n",
    "    hurricanes[names[i]] = {\"Name\": names[i], \n",
    "                            \"Month\": months[i], \n",
    "                            \"Year\": years[i], \n",
    "                            \"Max sustained wind\": \n",
    "                            max_sustained_winds[i], \n",
    "                            \"Area Affected\": areas_affected[i], \n",
    "                            \"Deaths\": deaths[i]}\n",
    "  return hurricanes\n",
    "\n",
    "hurricanes = create_dictionary(names, months, years, \n",
    "                               max_sustained_winds, \n",
    "                               areas_affected, deaths)\n",
    "\n",
    "print(hurricanes['Cuba I'])\n",
    "\n",
    "\n",
    "\n",
    "\n",
    "\n",
    "\n",
    "\n",
    "\n",
    "\n"
   ]
  },
  {
   "cell_type": "code",
   "execution_count": 99,
   "id": "e7eaec40",
   "metadata": {},
   "outputs": [
    {
     "name": "stdout",
     "output_type": "stream",
     "text": [
      "[{'Name': 'CubaBrownsville', 'Month': 'August', 'Year': 1933, 'Max sustained wind': 160, 'Area Affected': ['The Bahamas', 'Cuba', 'Florida', 'Texas', 'Tamaulipas'], 'Deaths': 179, 'Mortality Scale': 2.0}, {'Name': 'Tampico', 'Month': 'September', 'Year': 1933, 'Max sustained wind': 160, 'Area Affected': ['Jamaica', 'Yucatn Peninsula'], 'Deaths': 184, 'Mortality Scale': 2.0}]\n",
      "{'Name': 'Cuba I', 'Month': 'October', 'Year': 1924, 'Max sustained wind': 165, 'Area Affected': ['Central America', 'Mexico', 'Cuba', 'Florida', 'The Bahamas'], 'Deaths': 90, 'Mortality Scale': 1.0}\n"
     ]
    }
   ],
   "source": [
    "# 3\n",
    "# Organizing by Year\n",
    "\n",
    "# create a new dictionary of hurricanes with year and key\n",
    "def year_dictionary(hurricanes):\n",
    "    hurricanes_by_year = {}\n",
    "    for cane in hurricanes:\n",
    "        current_year = hurricanes[cane]['Year']\n",
    "        current_cane = hurricanes[cane]\n",
    "        if current_year not in hurricanes_by_year:\n",
    "            hurricanes_by_year[current_year] = [current_cane]\n",
    "        else:\n",
    "            hurricanes_by_year[current_year].append(current_cane)\n",
    "    return hurricanes_by_year\n",
    "\n",
    "hurricanes_by_year =  year_dictionary(hurricanes)\n",
    "print(hurricanes_by_year[1933])\n",
    "print(hurricanes['Cuba I'])"
   ]
  },
  {
   "cell_type": "markdown",
   "id": "f3cf482c",
   "metadata": {},
   "source": [
    "#4\n",
    "Write a function that counts how often each area is listed as an affected area of a hurricane. Store and return the results in a dictionary where the keys are the affected areas and the values are counts of how many times the areas were affected.\n",
    "Our function iterates through each hurricane, and then iterates through each affected area for that hurricane.\n",
    "\n",
    "We then check if area exists as a key in our new dictionary, and if not, initialize the key with a count value of 1.\n",
    "\n",
    "If area does exist as a key, the count value is increased by 1.\n",
    "\n",
    "This task can also be completed with Python’s defaultdict object. Check out the defaultdict documentation here.\n",
    "\n",
    "Using our new dictionary check if the area exists as a key, if not initialize the key with a count value of 1"
   ]
  },
  {
   "cell_type": "code",
   "execution_count": 49,
   "id": "dfb95cf0",
   "metadata": {},
   "outputs": [
    {
     "name": "stdout",
     "output_type": "stream",
     "text": [
      "{'Central America': 9, 'Mexico': 7, 'Cuba': 6, 'Florida': 6, 'The Bahamas': 7, 'Lesser Antilles': 4, 'United States East Coast': 3, 'Atlantic Canada': 3, 'Northeastern United States': 2, 'Jamaica': 4, 'Cayman Islands': 1, 'Bermuda': 2, 'Texas': 4, 'Tamaulipas': 1, 'Yucatn Peninsula': 3, 'Georgia': 1, 'The Carolinas': 1, 'Virginia': 1, 'Southeastern United States': 1, 'Southwestern Quebec': 1, 'New England': 1, 'Louisiana': 1, 'Midwestern United States': 1, 'The Caribbean': 8, 'United States Gulf Coast': 6, 'United States East coast': 1, 'South Texas': 1, 'Venezuela': 3, 'Hispaniola': 1, 'South Florida': 1, 'Greater Antilles': 2, 'Bahamas': 2, 'Eastern United States': 1, 'Ontario': 1, 'Windward Islands': 1, 'Nicaragua': 1, 'Honduras': 1, 'Antilles': 1, 'Colombia': 1, 'Cape Verde': 1, 'British Virgin Islands': 1, 'U.S. Virgin Islands': 1, 'Virgin Islands': 1, 'Puerto Rico': 1, 'Dominican Republic': 1, 'Turks and Caicos Islands': 1, 'United States Gulf Coast (especially Florida Panhandle)': 1}\n"
     ]
    }
   ],
   "source": [
    "def count_affected_areas(hurricanes):\n",
    "    \"\"\"Find the count of affected areas across all \n",
    "    hurricanes and return as a dictionary with the\n",
    "    affected areas as keys.\"\"\"\n",
    "    affected_area_count = {}\n",
    "    for element in hurricanes:\n",
    "        for area in hurricanes[element]['Area Affected']:\n",
    "            if area not in affected_area_count:\n",
    "                affected_area_count[area] = 1\n",
    "            else:\n",
    "                affected_area_count[area] += 1\n",
    "    return affected_area_count\n",
    "\n",
    "affected_area_count = count_affected_areas(hurricanes)\n",
    "print(affected_area_count)"
   ]
  },
  {
   "cell_type": "markdown",
   "id": "626e5f31",
   "metadata": {},
   "source": [
    "#6\n",
    "Write a function that finds the area affected by the most hurricanes, and how often it was hit.\n",
    "\n",
    "Test your function on your affected area dictionary."
   ]
  },
  {
   "cell_type": "code",
   "execution_count": 59,
   "id": "711ed58f",
   "metadata": {},
   "outputs": [
    {
     "name": "stdout",
     "output_type": "stream",
     "text": [
      "\n",
      "Central America 9\n",
      "{'Name': 'Cuba I', 'Month': 'October', 'Year': 1924, 'Max sustained wind': 165, 'Area Affected': ['Central America', 'Mexico', 'Cuba', 'Florida', 'The Bahamas'], 'Deaths': 90}\n"
     ]
    }
   ],
   "source": [
    "sorted_affected_area_count = sorted(affected_area_count.values())\n",
    "print()\n",
    "\n",
    "\n",
    "\n",
    "def areas_most_affected(affected_area_count):\n",
    "    max_area = ''\n",
    "    most_affected_count = 0\n",
    "    for area in affected_area_count:\n",
    "        if affected_area_count[area] > most_affected_count:\n",
    "            max_area = area\n",
    "            most_affected_count = affected_area_count[area]\n",
    "    return max_area, most_affected_count\n",
    "\n",
    "max_area, most_affected_count = areas_most_affected(affected_area_count)\n",
    "print(max_area, most_affected_count)\n",
    "print(hurricanes['Cuba I'])\n",
    "\n",
    "        \n",
    "        "
   ]
  },
  {
   "cell_type": "markdown",
   "id": "48f0dda0",
   "metadata": {},
   "source": [
    "#7 \n",
    "Write a function that finds the hurricane that caused the greatest number of deaths, and how many deaths it caused.\n",
    "\n",
    "Test your function on your hurricane dictionary."
   ]
  },
  {
   "cell_type": "code",
   "execution_count": 74,
   "id": "a6330e23",
   "metadata": {},
   "outputs": [
    {
     "name": "stdout",
     "output_type": "stream",
     "text": [
      "{'Cuba I': 90, 'San Felipe II Okeechobee': 4000, 'Bahamas': 16, 'Cuba II': 3103, 'CubaBrownsville': 179, 'Tampico': 184, 'Labor Day': 408, 'New England': 682, 'Carol': 5, 'Janet': 1023, 'Carla': 43, 'Hattie': 319, 'Beulah': 688, 'Camille': 259, 'Edith': 37, 'Anita': 11, 'David': 2068, 'Allen': 269, 'Gilbert': 318, 'Hugo': 107, 'Andrew': 65, 'Mitch': 19325, 'Isabel': 51, 'Ivan': 124, 'Emily': 17, 'Katrina': 1836, 'Rita': 125, 'Wilma': 87, 'Dean': 45, 'Felix': 133, 'Matthew': 603, 'Irma': 138, 'Maria': 3057, 'Michael': 74}\n",
      "Mitch 19325\n",
      "90\n",
      "4000\n",
      "16\n",
      "3103\n",
      "179\n",
      "184\n",
      "408\n",
      "682\n",
      "5\n",
      "1023\n",
      "43\n",
      "319\n",
      "688\n",
      "259\n",
      "37\n",
      "11\n",
      "2068\n",
      "269\n",
      "318\n",
      "107\n",
      "65\n",
      "19325\n",
      "51\n",
      "124\n",
      "17\n",
      "1836\n",
      "125\n",
      "87\n",
      "45\n",
      "133\n",
      "603\n",
      "138\n",
      "3057\n",
      "74\n"
     ]
    }
   ],
   "source": [
    "def count_deaths(hurricanes):\n",
    "    death_count = {}\n",
    "    for element in hurricanes:\n",
    "        name_of_hurricane = hurricanes[element]['Name']\n",
    "        deaths_of_hurricane = hurricanes[element][str('Deaths')]\n",
    "        death_count[name_of_hurricane] = deaths_of_hurricane\n",
    "    return death_count\n",
    "    \n",
    "death_count = count_deaths(hurricanes)\n",
    "print(death_count)\n",
    "\n",
    "def highest_deaths(death_count):\n",
    "    most_deaths_hurricane_name = ''\n",
    "    greatest_num_deaths = 0 \n",
    "    for name in death_count:\n",
    "        if death_count[name] > greatest_num_deaths:\n",
    "            most_deaths_hurricane_name = name\n",
    "            greatest_num_deaths = death_count[name]\n",
    "    return most_deaths_hurricane_name, greatest_num_deaths\n",
    "\n",
    "most_deaths_hurricane_name, greatest_num_deaths = highest_deaths(death_count)\n",
    "print(most_deaths_hurricane_name, greatest_num_deaths)\n",
    "\n",
    "for element in hurricanes:\n",
    "    print(hurricanes[element][str('Deaths')])\n",
    "\n",
    "\n",
    "\n",
    "\n",
    "\n",
    "\n",
    "\n",
    "\n",
    "\n"
   ]
  },
  {
   "cell_type": "markdown",
   "id": "3c48d415",
   "metadata": {},
   "source": [
    "#8\n",
    "Write a function that rates hurricanes on a mortality scale according to the following ratings, where the key is the rating and the value is the upper bound of deaths for that rating.\n",
    "\n",
    "For example, a hurricane with a 1 mortality rating would have resulted in greater than 0 but less than or equal to 100 deaths. A hurricane with a 5 mortality rating would have resulted in greater than 10000 deaths.\n",
    "\n",
    "Store the hurricanes in a new dictionary where the keys are mortality ratings and the values are lists containing a dictionary for each hurricane that falls into that mortality rating.\n",
    "\n",
    "Test your function on your hurricane dictionary."
   ]
  },
  {
   "cell_type": "code",
   "execution_count": 121,
   "id": "783b1285",
   "metadata": {},
   "outputs": [
    {
     "name": "stdout",
     "output_type": "stream",
     "text": [
      "[1, 4, 1, 4, 2, 2, 2, 3, 1, 4, 1, 2, 3, 2, 1, 1, 4, 2, 2, 2, 1, 5, 1, 2, 1, 4, 2, 1, 1, 2, 3, 2, 4, 1]\n",
      "[{'Name': 'Cuba I', 'Month': 'October', 'Year': 1924, 'Max sustained wind': 165, 'Area Affected': ['Central America', 'Mexico', 'Cuba', 'Florida', 'The Bahamas'], 'Deaths': 90, 'Mortality Scale': 1}, {'Name': 'Bahamas', 'Month': 'September', 'Year': 1932, 'Max sustained wind': 160, 'Area Affected': ['The Bahamas', 'Northeastern United States'], 'Deaths': 16, 'Mortality Scale': 1}, {'Name': 'Carol', 'Month': 'September', 'Year': 1953, 'Max sustained wind': 160, 'Area Affected': ['Bermuda', 'New England', 'Atlantic Canada'], 'Deaths': 5, 'Mortality Scale': 1}, {'Name': 'Carla', 'Month': 'September', 'Year': 1961, 'Max sustained wind': 175, 'Area Affected': ['Texas', 'Louisiana', 'Midwestern United States'], 'Deaths': 43, 'Mortality Scale': 1}, {'Name': 'Edith', 'Month': 'September', 'Year': 1971, 'Max sustained wind': 160, 'Area Affected': ['The Caribbean', 'Central America', 'Mexico', 'United States Gulf Coast'], 'Deaths': 37, 'Mortality Scale': 1}, {'Name': 'Anita', 'Month': 'September', 'Year': 1977, 'Max sustained wind': 175, 'Area Affected': ['Mexico'], 'Deaths': 11, 'Mortality Scale': 1}, {'Name': 'Andrew', 'Month': 'August', 'Year': 1992, 'Max sustained wind': 175, 'Area Affected': ['The Bahamas', 'Florida', 'United States Gulf Coast'], 'Deaths': 65, 'Mortality Scale': 1}, {'Name': 'Isabel', 'Month': 'September', 'Year': 2003, 'Max sustained wind': 165, 'Area Affected': ['Greater Antilles', 'Bahamas', 'Eastern United States', 'Ontario'], 'Deaths': 51, 'Mortality Scale': 1}, {'Name': 'Emily', 'Month': 'July', 'Year': 2005, 'Max sustained wind': 160, 'Area Affected': ['Windward Islands', 'Jamaica', 'Mexico', 'Texas'], 'Deaths': 17, 'Mortality Scale': 1}, {'Name': 'Wilma', 'Month': 'October', 'Year': 2005, 'Max sustained wind': 185, 'Area Affected': ['Greater Antilles', 'Central America', 'Florida'], 'Deaths': 87, 'Mortality Scale': 1}, {'Name': 'Dean', 'Month': 'August', 'Year': 2007, 'Max sustained wind': 175, 'Area Affected': ['The Caribbean', 'Central America'], 'Deaths': 45, 'Mortality Scale': 1}, {'Name': 'Michael', 'Month': 'October', 'Year': 2018, 'Max sustained wind': 160, 'Area Affected': ['Central America', 'United States Gulf Coast (especially Florida Panhandle)'], 'Deaths': 74, 'Mortality Scale': 1}]\n"
     ]
    }
   ],
   "source": [
    "mortality_scale = {0: 0,\n",
    "                   1: 100,\n",
    "                   2: 500,\n",
    "                   3: 1000,\n",
    "                   4: 10000}\n",
    "\n",
    "def mortality_dictionary(deaths):\n",
    "    hurricanes_by_mortality = []\n",
    "    for element in deaths:\n",
    "        if element == 0:\n",
    "            hurricanes_by_mortality.append(0)\n",
    "        if 0 <= element <= 100:\n",
    "            hurricanes_by_mortality.append(1)\n",
    "        if 100 <= element <= 500:\n",
    "            hurricanes_by_mortality.append(2)\n",
    "        if 500 <= element <= 1000:\n",
    "            hurricanes_by_mortality.append(3)\n",
    "        if 1000 <= element <= 10000:\n",
    "            hurricanes_by_mortality.append(4)\n",
    "        if element >= 10000:\n",
    "            hurricanes_by_mortality.append(5)\n",
    "    return hurricanes_by_mortality\n",
    "            \n",
    "hurricanes_by_mortality = mortality_dictionary(deaths)\n",
    "print(hurricanes_by_mortality)\n",
    "       \n",
    "\n",
    "def create_dictionary(names, months, years, \n",
    "                      max_sustained_winds, \n",
    "                      areas_affected, deaths,hurricanes_by_mortality):\n",
    "  hurricanes = {}\n",
    "  for i in range(len(names)):\n",
    "    hurricanes[names[i]] = {\"Name\": names[i], \n",
    "                            \"Month\": months[i], \n",
    "                            \"Year\": years[i], \n",
    "                            \"Max sustained wind\": \n",
    "                            max_sustained_winds[i], \n",
    "                            \"Area Affected\": areas_affected[i], \n",
    "                            \"Deaths\": deaths[i],\n",
    "                            \"Mortality Scale\": hurricanes_by_mortality[i]}\n",
    "  return hurricanes\n",
    "\n",
    "hurricanes = create_dictionary(names, months, years, \n",
    "                               max_sustained_winds, \n",
    "                               areas_affected, deaths, \n",
    "                               hurricanes_by_mortality)\n",
    "\n",
    "def mortality_dictionary2(hurricanes):\n",
    "    hurricanes_by_mortality2 = {0:[], 1:[], 2:[], 3:[], 4:[], 5:[]}\n",
    "    for element in hurricanes:\n",
    "        current_mortality_rate = hurricanes[element]['Mortality Scale']\n",
    "        current_element = hurricanes[element]\n",
    "        if current_mortality_rate not in hurricanes_by_mortality2:\n",
    "            hurricanes_by_mortality2[current_mortality_rate] = current_element\n",
    "        else:\n",
    "            hurricanes_by_mortality2[current_mortality_rate].append(current_element)\n",
    "    return hurricanes_by_mortality2\n",
    "\n",
    "hurricanes_by_mortality2 = mortality_dictionary2(hurricanes)\n",
    "print(hurricanes_by_mortality2[1])\n",
    "\n",
    "\n",
    "\n",
    "\n",
    "\n",
    "        "
   ]
  },
  {
   "cell_type": "markdown",
   "id": "e585081e",
   "metadata": {},
   "source": [
    "#9\n",
    "Write a function that finds the hurricane that caused the greatest damage, and how costly it was.\n",
    "\n",
    "Test your function on your hurricane dictionary."
   ]
  },
  {
   "cell_type": "code",
   "execution_count": 140,
   "id": "a184821a",
   "metadata": {},
   "outputs": [
    {
     "name": "stdout",
     "output_type": "stream",
     "text": [
      "{'Name': 'Irma', 'Month': 'September', 'Year': 2017, 'Max sustained wind': 180, 'Area Affected': ['Cape Verde', 'The Caribbean', 'British Virgin Islands', 'U.S. Virgin Islands', 'Cuba', 'Florida'], 'Deaths': 138, 'Mortality Scale': 2, 'Damages': 64800000000.0}\n",
      "Mitch 19325\n",
      "Katrina 125000000000.0\n"
     ]
    }
   ],
   "source": [
    "\n",
    "\n",
    "\n",
    "def create_dictionary(names, months, years, \n",
    "                      max_sustained_winds, \n",
    "                      areas_affected, deaths,hurricanes_by_mortality,\n",
    "                      updated_damages):\n",
    "  hurricanes = {}\n",
    "  for i in range(len(names)):\n",
    "    hurricanes[names[i]] = {\"Name\": names[i], \n",
    "                            \"Month\": months[i], \n",
    "                            \"Year\": years[i], \n",
    "                            \"Max sustained wind\": \n",
    "                            max_sustained_winds[i], \n",
    "                            \"Area Affected\": areas_affected[i], \n",
    "                            \"Deaths\": deaths[i],\n",
    "                            \"Mortality Scale\": hurricanes_by_mortality[i],\n",
    "                           \"Damages\": updated_damages[i]}\n",
    "  return hurricanes\n",
    "\n",
    "hurricanes = create_dictionary(names, months, years, \n",
    "                               max_sustained_winds, \n",
    "                               areas_affected, deaths, \n",
    "                               hurricanes_by_mortality,\n",
    "                              updated_damages)\n",
    "\n",
    "print(hurricanes['Irma'])\n",
    "\n",
    "\n",
    "def highest_deaths(death_count):\n",
    "    most_deaths_hurricane_name = ''\n",
    "    greatest_num_deaths = 0 \n",
    "    for name in death_count:\n",
    "        if death_count[name] > greatest_num_deaths:\n",
    "            most_deaths_hurricane_name = name\n",
    "            greatest_num_deaths = death_count[name]\n",
    "    return most_deaths_hurricane_name, greatest_num_deaths\n",
    "\n",
    "most_deaths_hurricane_name, greatest_num_deaths = highest_deaths(death_count)\n",
    "print(most_deaths_hurricane_name, greatest_num_deaths)\n",
    "\n",
    "\n",
    "\n",
    "def greatest_damage(hurricanes):\n",
    "    hurricane_name = \"\"\n",
    "    greatest_damage_cost = 0\n",
    "    for element in hurricanes:\n",
    "        if hurricanes[element]['Damages'] == \"Damages not recorded\":\n",
    "            pass\n",
    "        elif hurricanes[element]['Damages'] > greatest_damage_cost:\n",
    "            hurricane_name = element\n",
    "            greatest_damage_cost = hurricanes[element]['Damages']\n",
    "    return hurricane_name, greatest_damage_cost\n",
    "\n",
    "hurricane_name, greatest_damage_cost = greatest_damage(hurricanes)\n",
    "print(hurricane_name, greatest_damage_cost)\n",
    "\n",
    "\n",
    "\n",
    "    "
   ]
  },
  {
   "cell_type": "markdown",
   "id": "48f54223",
   "metadata": {},
   "source": [
    "Lastly, you want to rate hurricanes according to how much damage they cause.\n",
    "\n",
    "Write a function that rates hurricanes on a damage scale according to the following ratings, where the key is the rating and the value is the upper bound of damage for that rating.\n",
    "\n",
    "For example, a hurricane with a 1 damage rating would have resulted in damages greater than 0 USD but less than or equal to 100000000 USD. A hurricane with a 5 damage rating would have resulted in damages greater than 50000000000 USD (talk about a lot of money).\n",
    "\n",
    "Store the hurricanes in a new dictionary where the keys are damage ratings and the values are lists containing a dictionary for each hurricane that falls into that damage rating.\n",
    "\n",
    "Test your function on your hurricane dictionary."
   ]
  },
  {
   "cell_type": "code",
   "execution_count": 155,
   "id": "c942836f",
   "metadata": {},
   "outputs": [
    {
     "name": "stdout",
     "output_type": "stream",
     "text": [
      "[{'Name': 'Katrina', 'Month': 'August', 'Year': 2005, 'Max sustained wind': 175, 'Area Affected': ['Bahamas', 'United States Gulf Coast'], 'Deaths': 1836, 'Mortality Scale': 4, 'Damages': 125000000000.0}, {'Name': 'Irma', 'Month': 'September', 'Year': 2017, 'Max sustained wind': 180, 'Area Affected': ['Cape Verde', 'The Caribbean', 'British Virgin Islands', 'U.S. Virgin Islands', 'Cuba', 'Florida'], 'Deaths': 138, 'Mortality Scale': 2, 'Damages': 64800000000.0}, {'Name': 'Maria', 'Month': 'September', 'Year': 2017, 'Max sustained wind': 175, 'Area Affected': ['Lesser Antilles', 'Virgin Islands', 'Puerto Rico', 'Dominican Republic', 'Turks and Caicos Islands'], 'Deaths': 3057, 'Mortality Scale': 4, 'Damages': 91600000000.0}]\n"
     ]
    }
   ],
   "source": [
    "damage_scale = {0: 0,\n",
    "                1: 100000000,\n",
    "                2: 1000000000,\n",
    "                3: 10000000000,\n",
    "                4: 50000000000}\n",
    "\n",
    "\n",
    "def dictionary_by_damage(hurricanes):\n",
    "    hurricanes_by_damage = {0:[],1:[],2:[],3:[],4:[],5:[]}\n",
    "    for element in hurricanes:\n",
    "        damage = hurricanes[element]['Damages']\n",
    "        if damage == \"Damages not recorded\":\n",
    "            pass\n",
    "        elif damage == 0:\n",
    "            hurricanes_by_damage[0].append(hurricanes[element])\n",
    "        elif 0 < damage < 100000000:\n",
    "            hurricanes_by_damage[1].append(hurricanes[element]) \n",
    "        elif 100000000 < damage < 1000000000:\n",
    "            hurricanes_by_damage[2].append(hurricanes[element]) \n",
    "        elif 1000000000 < damage < 10000000000:\n",
    "            hurricanes_by_damage[3].append(hurricanes[element]) \n",
    "        elif 10000000000 < damage < 50000000000:\n",
    "            hurricanes_by_damage[4].append(hurricanes[element]) \n",
    "        elif damage > 50000000000:\n",
    "            hurricanes_by_damage[5].append(hurricanes[element]) \n",
    "    return hurricanes_by_damage\n",
    "\n",
    "hurricanes_by_damage = dictionary_by_damage(hurricanes)\n",
    "print(hurricanes_by_damage[5])\n",
    "\n",
    "    "
   ]
  },
  {
   "cell_type": "code",
   "execution_count": 154,
   "id": "73b5a10b",
   "metadata": {},
   "outputs": [
    {
     "ename": "KeyError",
     "evalue": "'Damage'",
     "output_type": "error",
     "traceback": [
      "\u001b[0;31m---------------------------------------------------------------------------\u001b[0m",
      "\u001b[0;31mKeyError\u001b[0m                                  Traceback (most recent call last)",
      "\u001b[0;32m<ipython-input-154-89d5354dfdf4>\u001b[0m in \u001b[0;36m<module>\u001b[0;34m\u001b[0m\n\u001b[1;32m     26\u001b[0m \u001b[0;34m\u001b[0m\u001b[0m\n\u001b[1;32m     27\u001b[0m \u001b[0;31m# categorize hurricanes in new dictionary with damage severity as key\u001b[0m\u001b[0;34m\u001b[0m\u001b[0;34m\u001b[0m\u001b[0;34m\u001b[0m\u001b[0m\n\u001b[0;32m---> 28\u001b[0;31m \u001b[0mhurricanes_by_damage\u001b[0m \u001b[0;34m=\u001b[0m \u001b[0mcategorize_by_damage\u001b[0m\u001b[0;34m(\u001b[0m\u001b[0mhurricanes\u001b[0m\u001b[0;34m)\u001b[0m\u001b[0;34m\u001b[0m\u001b[0;34m\u001b[0m\u001b[0m\n\u001b[0m\u001b[1;32m     29\u001b[0m \u001b[0mprint\u001b[0m\u001b[0;34m(\u001b[0m\u001b[0mhurricanes_by_damage\u001b[0m\u001b[0;34m[\u001b[0m\u001b[0;36m5\u001b[0m\u001b[0;34m]\u001b[0m\u001b[0;34m)\u001b[0m\u001b[0;34m\u001b[0m\u001b[0;34m\u001b[0m\u001b[0m\n",
      "\u001b[0;32m<ipython-input-154-89d5354dfdf4>\u001b[0m in \u001b[0;36mcategorize_by_damage\u001b[0;34m(hurricanes)\u001b[0m\n\u001b[1;32m      8\u001b[0m   \u001b[0mhurricanes_by_damage\u001b[0m \u001b[0;34m=\u001b[0m \u001b[0;34m{\u001b[0m\u001b[0;36m0\u001b[0m\u001b[0;34m:\u001b[0m\u001b[0;34m[\u001b[0m\u001b[0;34m]\u001b[0m\u001b[0;34m,\u001b[0m\u001b[0;36m1\u001b[0m\u001b[0;34m:\u001b[0m\u001b[0;34m[\u001b[0m\u001b[0;34m]\u001b[0m\u001b[0;34m,\u001b[0m\u001b[0;36m2\u001b[0m\u001b[0;34m:\u001b[0m\u001b[0;34m[\u001b[0m\u001b[0;34m]\u001b[0m\u001b[0;34m,\u001b[0m\u001b[0;36m3\u001b[0m\u001b[0;34m:\u001b[0m\u001b[0;34m[\u001b[0m\u001b[0;34m]\u001b[0m\u001b[0;34m,\u001b[0m\u001b[0;36m4\u001b[0m\u001b[0;34m:\u001b[0m\u001b[0;34m[\u001b[0m\u001b[0;34m]\u001b[0m\u001b[0;34m,\u001b[0m\u001b[0;36m5\u001b[0m\u001b[0;34m:\u001b[0m\u001b[0;34m[\u001b[0m\u001b[0;34m]\u001b[0m\u001b[0;34m}\u001b[0m\u001b[0;34m\u001b[0m\u001b[0;34m\u001b[0m\u001b[0m\n\u001b[1;32m      9\u001b[0m   \u001b[0;32mfor\u001b[0m \u001b[0mcane\u001b[0m \u001b[0;32min\u001b[0m \u001b[0mhurricanes\u001b[0m\u001b[0;34m:\u001b[0m\u001b[0;34m\u001b[0m\u001b[0;34m\u001b[0m\u001b[0m\n\u001b[0;32m---> 10\u001b[0;31m     \u001b[0mtotal_damage\u001b[0m \u001b[0;34m=\u001b[0m \u001b[0mhurricanes\u001b[0m\u001b[0;34m[\u001b[0m\u001b[0mcane\u001b[0m\u001b[0;34m]\u001b[0m\u001b[0;34m[\u001b[0m\u001b[0;34m'Damage'\u001b[0m\u001b[0;34m]\u001b[0m\u001b[0;34m\u001b[0m\u001b[0;34m\u001b[0m\u001b[0m\n\u001b[0m\u001b[1;32m     11\u001b[0m     \u001b[0;32mif\u001b[0m \u001b[0mtotal_damage\u001b[0m \u001b[0;34m==\u001b[0m \u001b[0;34m\"Damages not recorded\"\u001b[0m\u001b[0;34m:\u001b[0m\u001b[0;34m\u001b[0m\u001b[0;34m\u001b[0m\u001b[0m\n\u001b[1;32m     12\u001b[0m       \u001b[0mhurricanes_by_damage\u001b[0m\u001b[0;34m[\u001b[0m\u001b[0;36m0\u001b[0m\u001b[0;34m]\u001b[0m\u001b[0;34m.\u001b[0m\u001b[0mappend\u001b[0m\u001b[0;34m(\u001b[0m\u001b[0mhurricanes\u001b[0m\u001b[0;34m[\u001b[0m\u001b[0mcane\u001b[0m\u001b[0;34m]\u001b[0m\u001b[0;34m)\u001b[0m\u001b[0;34m\u001b[0m\u001b[0;34m\u001b[0m\u001b[0m\n",
      "\u001b[0;31mKeyError\u001b[0m: 'Damage'"
     ]
    }
   ],
   "source": []
  },
  {
   "cell_type": "code",
   "execution_count": null,
   "id": "1c92a65a",
   "metadata": {},
   "outputs": [],
   "source": []
  },
  {
   "cell_type": "code",
   "execution_count": null,
   "id": "1128a947",
   "metadata": {},
   "outputs": [],
   "source": []
  }
 ],
 "metadata": {
  "kernelspec": {
   "display_name": "Python 3",
   "language": "python",
   "name": "python3"
  },
  "language_info": {
   "codemirror_mode": {
    "name": "ipython",
    "version": 3
   },
   "file_extension": ".py",
   "mimetype": "text/x-python",
   "name": "python",
   "nbconvert_exporter": "python",
   "pygments_lexer": "ipython3",
   "version": "3.8.8"
  }
 },
 "nbformat": 4,
 "nbformat_minor": 5
}
